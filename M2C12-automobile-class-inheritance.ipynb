{
 "cells": [
  {
   "cell_type": "markdown",
   "metadata": {},
   "source": [
    "We run a car dealership!\n",
    "\n",
    "Currently we will sell Cars, Trucks, and Motobikes.\n",
    "\n",
    "Each vehicle will be represented by a class and contain the following components:\n",
    "\n",
    "-Attributes:\n",
    "**Wheels, Miles driven, Make, Model, Year, Sold On Date**\n",
    "        \n",
    "Methods:\n",
    "\n",
    "Sales price of an automobile to a customer is determined by the equation:  \n",
    "            **$2,000 x number of total wheels**\n",
    "    \n",
    "We also like to give the customer the option of selling vehicles to us;  total buy back for a used vehicle is determined by the equation:\n",
    "            \n",
    "**(flat rate based on the vehicle type) - 10% of the miles driven on vehicle**\n",
    "\n",
    "For the above 'flat rate based on vehicle type, rate is as follows:\n",
    "\n",
    "**Truck: $10,000**\n",
    "\n",
    "**Car: $8,000**\n",
    "\n",
    "**Motobike:  $4,000**"
   ]
  },
  {
   "cell_type": "code",
   "execution_count": 77,
   "metadata": {},
   "outputs": [],
   "source": [
    "#STEP 1\n",
    "#First create Car class based on the above criteria:\n"
   ]
  },
  {
   "cell_type": "code",
   "execution_count": 78,
   "metadata": {},
   "outputs": [],
   "source": [
    "#STEP 2\n",
    "#Next create Truck class based on the above criteria:\n"
   ]
  },
  {
   "cell_type": "code",
   "execution_count": 79,
   "metadata": {},
   "outputs": [],
   "source": [
    "#STEP 3\n",
    "#We are repeating our code, could we abstract and consolidate our classes?:\n"
   ]
  },
  {
   "cell_type": "code",
   "execution_count": 80,
   "metadata": {},
   "outputs": [],
   "source": [
    "#STEP 4\n",
    "#Now that we have a parent class, let's rewrite Car/Truck classes\n",
    "#with wheels/base_sale_price as Class attributes (remove corresponding\n",
    "#__init__ parameters/attributes from STEP 3 class Vehicle):\n"
   ]
  },
  {
   "cell_type": "code",
   "execution_count": 81,
   "metadata": {},
   "outputs": [],
   "source": [
    "#STEP 5\n",
    "#Create a car that was sold, a truck that hasn't been sold, a motobike \n",
    "#that hasn't been sold\n"
   ]
  }
 ],
 "metadata": {
  "kernelspec": {
   "display_name": "Python 3",
   "language": "python",
   "name": "python3"
  },
  "language_info": {
   "codemirror_mode": {
    "name": "ipython",
    "version": 2
   },
   "file_extension": ".py",
   "mimetype": "text/x-python",
   "name": "python",
   "nbconvert_exporter": "python",
   "pygments_lexer": "ipython2",
   "version": "2.7.14"
  }
 },
 "nbformat": 4,
 "nbformat_minor": 2
}
